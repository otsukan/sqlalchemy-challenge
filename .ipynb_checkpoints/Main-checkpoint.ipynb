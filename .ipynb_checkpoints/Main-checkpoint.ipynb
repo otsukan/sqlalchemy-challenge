{
 "cells": [
  {
   "cell_type": "code",
   "execution_count": 186,
   "metadata": {},
   "outputs": [],
   "source": [
    "# Importing necessary modules to analyze and visualize the climate of Honolulu, Hawaii.\n",
    "%matplotlib inline\n",
    "from matplotlib import style\n",
    "style.use('fivethirtyeight')\n",
    "import matplotlib.pyplot as plt\n",
    "import numpy as np\n",
    "import pandas as pd \n",
    "import datetime as dt\n",
    "import sqlalchemy\n",
    "from sqlalchemy.ext.automap import automap_base\n",
    "from sqlalchemy.orm import Session\n",
    "from sqlalchemy import create_engine, func, inspect\n",
    "import pandas as pd\n",
    "import matplotlib.dates as mdates"
   ]
  },
  {
   "cell_type": "code",
   "execution_count": 187,
   "metadata": {},
   "outputs": [],
   "source": [
    "# setting path to hawaii.sqlite file.\n",
    "database_path = \"Resources/hawaii.sqlite\""
   ]
  },
  {
   "cell_type": "code",
   "execution_count": 188,
   "metadata": {},
   "outputs": [],
   "source": [
    "# creating a variable that creates and holds the starting point and home base of interaction between us(python) and the hawaii.sqlite database/local files.\n",
    "engine = create_engine(f\"sqlite:///{database_path}\")"
   ]
  },
  {
   "cell_type": "code",
   "execution_count": 189,
   "metadata": {},
   "outputs": [],
   "source": [
    "# using the automap_base  and prepare functions to create an automated mapping of the hawaii.sqlite database, such as a general layout of how the data is structured and related.\n",
    "Base = automap_base()\n",
    "# Using the prepare function to reflect the mapping.\n",
    "Base.prepare(engine, reflect=True)"
   ]
  },
  {
   "cell_type": "code",
   "execution_count": 190,
   "metadata": {},
   "outputs": [
    {
     "data": {
      "text/plain": [
       "['measurement', 'station']"
      ]
     },
     "execution_count": 190,
     "metadata": {},
     "output_type": "execute_result"
    }
   ],
   "source": [
    "# Using the functional Base variable created above to find out the names of the hawaii.sqlite classes/tables the automapping above created.\n",
    "Base.classes.keys()"
   ]
  },
  {
   "cell_type": "code",
   "execution_count": 191,
   "metadata": {},
   "outputs": [],
   "source": [
    "# saving the tabels that the automapping is referencing to variables for operation later on.\n",
    "Measurement = Base.classes.measurement\n",
    "Station = Base.classes.station"
   ]
  },
  {
   "cell_type": "code",
   "execution_count": 192,
   "metadata": {},
   "outputs": [],
   "source": [
    "# creating a session variable that will allow the our python scripts to communicate with the hawaii database.\n",
    "session = Session(engine)"
   ]
  },
  {
   "cell_type": "code",
   "execution_count": 193,
   "metadata": {},
   "outputs": [
    {
     "data": {
      "text/plain": [
       "{'_sa_instance_state': <sqlalchemy.orm.state.InstanceState at 0x223dd42b198>,\n",
       " 'prcp': 0.08,\n",
       " 'date': '2010-01-01',\n",
       " 'id': 1,\n",
       " 'tobs': 65.0,\n",
       " 'station': 'USC00519397'}"
      ]
     },
     "execution_count": 193,
     "metadata": {},
     "output_type": "execute_result"
    }
   ],
   "source": [
    "# using the __dict__ function to get a feel for the mapping of the Measurement table.\n",
    "first_row = session.query(Measurement).first()\n",
    "first_row.__dict__"
   ]
  },
  {
   "cell_type": "code",
   "execution_count": 194,
   "metadata": {},
   "outputs": [
    {
     "data": {
      "text/plain": [
       "{'_sa_instance_state': <sqlalchemy.orm.state.InstanceState at 0x223dd66ba20>,\n",
       " 'station': 'USC00519397',\n",
       " 'longitude': -157.8168,\n",
       " 'name': 'WAIKIKI 717.2, HI US',\n",
       " 'id': 1,\n",
       " 'elevation': 3.0,\n",
       " 'latitude': 21.2716}"
      ]
     },
     "execution_count": 194,
     "metadata": {},
     "output_type": "execute_result"
    }
   ],
   "source": [
    "# using the __dict__ function like above to see the station data.\n",
    "first_row = session.query(Station).first()\n",
    "first_row.__dict__"
   ]
  },
  {
   "cell_type": "code",
   "execution_count": 195,
   "metadata": {},
   "outputs": [
    {
     "data": {
      "text/plain": [
       "('2017-08-23')"
      ]
     },
     "execution_count": 195,
     "metadata": {},
     "output_type": "execute_result"
    }
   ],
   "source": [
    "# seeing how  many years of data we have(2010-2017).\n",
    "session.query(Measurement.date).order_by(Measurement.date.desc()).first()"
   ]
  },
  {
   "cell_type": "code",
   "execution_count": 196,
   "metadata": {},
   "outputs": [
    {
     "data": {
      "text/plain": [
       "[('2016-08-23', 0.0),\n",
       " ('2016-08-24', 0.08),\n",
       " ('2016-08-25', 0.08),\n",
       " ('2016-08-26', 0.0),\n",
       " ('2016-08-27', 0.0),\n",
       " ('2016-08-28', 0.01),\n",
       " ('2016-08-29', 0.0),\n",
       " ('2016-08-30', 0.0),\n",
       " ('2016-08-31', 0.13),\n",
       " ('2016-09-01', 0.0)]"
      ]
     },
     "execution_count": 196,
     "metadata": {},
     "output_type": "execute_result"
    }
   ],
   "source": [
    "# obtaining only the date and precipiation columns and filtering out so we only have the last 12 months of data.\n",
    "data_2017 = session.query(Measurement.date, Measurement.prcp).\\\n",
    "    filter(Measurement.date >= \"2016-08-23\").\\\n",
    "    filter(Measurement.date <= \"2017-08-23\").all()\n",
    "# previewing data\n",
    "data_2017[0:10]"
   ]
  },
  {
   "cell_type": "code",
   "execution_count": 197,
   "metadata": {},
   "outputs": [],
   "source": [
    "# creating a prcp dataframe out of the data_2017 data created above.\n",
    "prcp_data_2017 = pd.DataFrame(data_2017)"
   ]
  },
  {
   "cell_type": "code",
   "execution_count": 198,
   "metadata": {},
   "outputs": [],
   "source": [
    "# reformatting the date column from object to datestamp.\n",
    "prcp_data_2017[\"date\"] = prcp_data_2017[\"date\"].astype(\"datetime64[ns]\")"
   ]
  },
  {
   "cell_type": "code",
   "execution_count": 199,
   "metadata": {},
   "outputs": [
    {
     "data": {
      "text/html": [
       "<div>\n",
       "<style scoped>\n",
       "    .dataframe tbody tr th:only-of-type {\n",
       "        vertical-align: middle;\n",
       "    }\n",
       "\n",
       "    .dataframe tbody tr th {\n",
       "        vertical-align: top;\n",
       "    }\n",
       "\n",
       "    .dataframe thead th {\n",
       "        text-align: right;\n",
       "    }\n",
       "</style>\n",
       "<table border=\"1\" class=\"dataframe\">\n",
       "  <thead>\n",
       "    <tr style=\"text-align: right;\">\n",
       "      <th></th>\n",
       "      <th>date</th>\n",
       "      <th>prcp</th>\n",
       "    </tr>\n",
       "  </thead>\n",
       "  <tbody>\n",
       "    <tr>\n",
       "      <th>0</th>\n",
       "      <td>2016-08-23</td>\n",
       "      <td>0.00</td>\n",
       "    </tr>\n",
       "    <tr>\n",
       "      <th>1</th>\n",
       "      <td>2016-08-24</td>\n",
       "      <td>0.08</td>\n",
       "    </tr>\n",
       "    <tr>\n",
       "      <th>2</th>\n",
       "      <td>2016-08-25</td>\n",
       "      <td>0.08</td>\n",
       "    </tr>\n",
       "    <tr>\n",
       "      <th>3</th>\n",
       "      <td>2016-08-26</td>\n",
       "      <td>0.00</td>\n",
       "    </tr>\n",
       "    <tr>\n",
       "      <th>4</th>\n",
       "      <td>2016-08-27</td>\n",
       "      <td>0.00</td>\n",
       "    </tr>\n",
       "  </tbody>\n",
       "</table>\n",
       "</div>"
      ],
      "text/plain": [
       "        date  prcp\n",
       "0 2016-08-23  0.00\n",
       "1 2016-08-24  0.08\n",
       "2 2016-08-25  0.08\n",
       "3 2016-08-26  0.00\n",
       "4 2016-08-27  0.00"
      ]
     },
     "execution_count": 199,
     "metadata": {},
     "output_type": "execute_result"
    }
   ],
   "source": [
    "# previewing prcp_data_2017 data\n",
    "prcp_data_2017.head()"
   ]
  },
  {
   "cell_type": "code",
   "execution_count": 214,
   "metadata": {},
   "outputs": [],
   "source": [
    "# setting prcp_data_2017 index as date.\n",
    "prcp_data_2017 = prcp_data_2017.set_index(\"date\")"
   ]
  },
  {
   "cell_type": "code",
   "execution_count": 215,
   "metadata": {},
   "outputs": [],
   "source": [
    "# sorting the pandas_data_2017 to have all dates appear in order.\n",
    "sorted_prcp_data_2017 = prcp_data_2017.sort_index()"
   ]
  },
  {
   "cell_type": "code",
   "execution_count": 216,
   "metadata": {},
   "outputs": [
    {
     "data": {
      "text/html": [
       "<div>\n",
       "<style scoped>\n",
       "    .dataframe tbody tr th:only-of-type {\n",
       "        vertical-align: middle;\n",
       "    }\n",
       "\n",
       "    .dataframe tbody tr th {\n",
       "        vertical-align: top;\n",
       "    }\n",
       "\n",
       "    .dataframe thead th {\n",
       "        text-align: right;\n",
       "    }\n",
       "</style>\n",
       "<table border=\"1\" class=\"dataframe\">\n",
       "  <thead>\n",
       "    <tr style=\"text-align: right;\">\n",
       "      <th></th>\n",
       "      <th>prcp</th>\n",
       "    </tr>\n",
       "    <tr>\n",
       "      <th>date</th>\n",
       "      <th></th>\n",
       "    </tr>\n",
       "  </thead>\n",
       "  <tbody>\n",
       "    <tr>\n",
       "      <th>2016-08-23</th>\n",
       "      <td>0.00</td>\n",
       "    </tr>\n",
       "    <tr>\n",
       "      <th>2016-08-23</th>\n",
       "      <td>NaN</td>\n",
       "    </tr>\n",
       "    <tr>\n",
       "      <th>2016-08-23</th>\n",
       "      <td>1.79</td>\n",
       "    </tr>\n",
       "    <tr>\n",
       "      <th>2016-08-23</th>\n",
       "      <td>0.05</td>\n",
       "    </tr>\n",
       "    <tr>\n",
       "      <th>2016-08-23</th>\n",
       "      <td>0.15</td>\n",
       "    </tr>\n",
       "  </tbody>\n",
       "</table>\n",
       "</div>"
      ],
      "text/plain": [
       "            prcp\n",
       "date            \n",
       "2016-08-23  0.00\n",
       "2016-08-23   NaN\n",
       "2016-08-23  1.79\n",
       "2016-08-23  0.05\n",
       "2016-08-23  0.15"
      ]
     },
     "execution_count": 216,
     "metadata": {},
     "output_type": "execute_result"
    }
   ],
   "source": [
    "# verifying the data is sorted by dates.\n",
    "sorted_prcp_data_2017.head()"
   ]
  },
  {
   "cell_type": "code",
   "execution_count": 217,
   "metadata": {},
   "outputs": [
    {
     "data": {
      "text/html": [
       "<div>\n",
       "<style scoped>\n",
       "    .dataframe tbody tr th:only-of-type {\n",
       "        vertical-align: middle;\n",
       "    }\n",
       "\n",
       "    .dataframe tbody tr th {\n",
       "        vertical-align: top;\n",
       "    }\n",
       "\n",
       "    .dataframe thead th {\n",
       "        text-align: right;\n",
       "    }\n",
       "</style>\n",
       "<table border=\"1\" class=\"dataframe\">\n",
       "  <thead>\n",
       "    <tr style=\"text-align: right;\">\n",
       "      <th></th>\n",
       "      <th>prcp</th>\n",
       "    </tr>\n",
       "    <tr>\n",
       "      <th>date</th>\n",
       "      <th></th>\n",
       "    </tr>\n",
       "  </thead>\n",
       "  <tbody>\n",
       "    <tr>\n",
       "      <th>2016-08-23</th>\n",
       "      <td>0.00</td>\n",
       "    </tr>\n",
       "    <tr>\n",
       "      <th>2016-08-23</th>\n",
       "      <td>1.79</td>\n",
       "    </tr>\n",
       "    <tr>\n",
       "      <th>2016-08-23</th>\n",
       "      <td>0.05</td>\n",
       "    </tr>\n",
       "    <tr>\n",
       "      <th>2016-08-23</th>\n",
       "      <td>0.15</td>\n",
       "    </tr>\n",
       "    <tr>\n",
       "      <th>2016-08-23</th>\n",
       "      <td>0.70</td>\n",
       "    </tr>\n",
       "  </tbody>\n",
       "</table>\n",
       "</div>"
      ],
      "text/plain": [
       "            prcp\n",
       "date            \n",
       "2016-08-23  0.00\n",
       "2016-08-23  1.79\n",
       "2016-08-23  0.05\n",
       "2016-08-23  0.15\n",
       "2016-08-23  0.70"
      ]
     },
     "execution_count": 217,
     "metadata": {},
     "output_type": "execute_result"
    }
   ],
   "source": [
    "# dropping all rows with NaN entries/cleaning up the data. \n",
    "sorted_prcp_data_2017 = sorted_prcp_data_2017.dropna()\n",
    "# previewing the changes made worked.\n",
    "sorted_prcp_data_2017.head()"
   ]
  },
  {
   "cell_type": "code",
   "execution_count": 218,
   "metadata": {},
   "outputs": [
    {
     "data": {
      "text/plain": [
       "{0: 0.0, 1: 1.79, 2: 0.05, 3: 0.15, 4: 0.7, 5: 0.02}"
      ]
     },
     "execution_count": 218,
     "metadata": {},
     "output_type": "execute_result"
    }
   ],
   "source": [
    "# creating a dictionary out of sorted_prcp dataframe with dates as the keys.\n",
    "prcp_dict = sorted_prcp_data_2017.reset_index()\n",
    "# converting date column to string.\n",
    "prcp_dict[\"date\"] = prcp_dict[\"date\"].astype(str)\n",
    "# using pivot funtion to put all precipitations by station recored on same date into own column by that date, instead of data only in one column. \n",
    "prcp_dict = prcp_dict.pivot(columns=\"date\", values=\"prcp\")\n",
    "# looping through columns to not include NaN entries and subsequently creating a dictionary.\n",
    "prcp_dict = {col: prcp_dict[col].dropna().to_dict() for col in prcp_dict}\n",
    "# # previewing results.\n",
    "prcp_dict[\"2016-08-23\"]"
   ]
  },
  {
   "cell_type": "code",
   "execution_count": 219,
   "metadata": {},
   "outputs": [
    {
     "data": {
      "text/plain": [
       "[None,\n",
       " None,\n",
       " None,\n",
       " None,\n",
       " None,\n",
       " None,\n",
       " None,\n",
       " None,\n",
       " None,\n",
       " None,\n",
       " None,\n",
       " None,\n",
       " None,\n",
       " None,\n",
       " None,\n",
       " None,\n",
       " None,\n",
       " None,\n",
       " None,\n",
       " None,\n",
       " None,\n",
       " None,\n",
       " None,\n",
       " None]"
      ]
     },
     "execution_count": 219,
     "metadata": {},
     "output_type": "execute_result"
    },
    {
     "data": {
      "image/png": "[encoded data removed]",
      "text/plain": [
       "<Figure size 432x288 with 1 Axes>"
      ]
     },
     "metadata": {},
     "output_type": "display_data"
    }
   ],
   "source": [
    "# creating a barchart that measures precipitation levels throughout the last 12 months by stations.\n",
    "fig, ax = plt.subplots()\n",
    "sorted_prcp_data_2017.plot(ax=ax)\n",
    "# creating labels for the barchart.\n",
    "plt.title(\"Precipitation levels throughout Hawaii (2016-2017)\")\n",
    "plt.ylabel(\"Precipitation Levels\")\n",
    "# #set ticks every month\n",
    "ax.xaxis.set_major_locator(mdates.MonthLocator())\n",
    "# #set major ticks format\n",
    "ax.xaxis.set_major_formatter(mdates.DateFormatter('%b'))\n",
    "plt.setp(ax.xaxis.get_majorticklabels(), rotation=-0, ha=\"left\" )\n",
    "# saving bargraph as png file.\n",
    "# plt.savefig(\"Precipitation levels throughout Hawaii in last 12 months\")"
   ]
  },
  {
   "cell_type": "code",
   "execution_count": 220,
   "metadata": {
    "scrolled": true
   },
   "outputs": [
    {
     "name": "stdout",
     "output_type": "stream",
     "text": [
      "There are 9 stations in our hawaii database\n"
     ]
    }
   ],
   "source": [
    "# calculating the total number of weather stations in our database in hawaii.\n",
    "number_of_stations = session.query(Station.id, Station.name).count()\n",
    "print(f\"There are {number_of_stations} stations in our hawaii database\")"
   ]
  },
  {
   "cell_type": "code",
   "execution_count": 221,
   "metadata": {},
   "outputs": [],
   "source": [
    "# counting the number of observations(temperature observations data) of each station from 2010-2017 and recording them in order from greatest to least in a list variable.\n",
    "observation_count = session.query(Station.name, Measurement.station, func.count(Measurement.tobs)).\\\n",
    "    filter(Measurement.station == Station.station).group_by(Measurement.station).order_by(func.count(Measurement.tobs).desc()).all()"
   ]
  },
  {
   "cell_type": "code",
   "execution_count": 222,
   "metadata": {
    "scrolled": true
   },
   "outputs": [
    {
     "data": {
      "text/plain": [
       "[('WAIHEE 837.5, HI US', 'USC00519281', 2772),\n",
       " ('WAIKIKI 717.2, HI US', 'USC00519397', 2724),\n",
       " ('KANEOHE 838.1, HI US', 'USC00513117', 2709),\n",
       " ('WAIMANALO EXPERIMENTAL FARM, HI US', 'USC00519523', 2669),\n",
       " ('MANOA LYON ARBO 785.2, HI US', 'USC00516128', 2612),\n",
       " ('KUALOA RANCH HEADQUARTERS 886.9, HI US', 'USC00514830', 2202),\n",
       " ('HONOLULU OBSERVATORY 702.2, HI US', 'USC00511918', 1979),\n",
       " ('PEARL CITY, HI US', 'USC00517948', 1372),\n",
       " ('UPPER WAHIAWA 874.3, HI US', 'USC00518838', 511)]"
      ]
     },
     "execution_count": 222,
     "metadata": {},
     "output_type": "execute_result"
    }
   ],
   "source": [
    "# checking the results of the observation count query preformed above that is contained in a list variable.\n",
    "observation_count"
   ]
  },
  {
   "cell_type": "code",
   "execution_count": 223,
   "metadata": {},
   "outputs": [
    {
     "name": "stdout",
     "output_type": "stream",
     "text": [
      "Station WAIHEE 837.5, HI US had the most temperature observation data recordings totaling 2772 from 2011-2017.\n"
     ]
    }
   ],
   "source": [
    "# printing what station had most temperature observations from 2010-2017 and the corresponding number of recordings.\n",
    "print(f\"Station {observation_count[0][0]} had the most temperature observation data recordings totaling {observation_count[0][2]} from 2011-2017.\")"
   ]
  },
  {
   "cell_type": "code",
   "execution_count": 224,
   "metadata": {},
   "outputs": [],
   "source": [
    "# counting the number of temperature observations for last 12 months of data according to each station and ordering them from greatest to least within a list variable.\n",
    "tobs_data = session.query(Station.name, Measurement.station, Measurement.tobs, func.count(Measurement.tobs)).\\\n",
    "    filter(Measurement.station == Station.station).\\\n",
    "    filter(Measurement.date >= \"2016-08-23\").\\\n",
    "    filter(Measurement.date <= \"2017-08-23\").group_by(Measurement.station).order_by(func.count(Measurement.tobs).desc()).all()"
   ]
  },
  {
   "cell_type": "code",
   "execution_count": 225,
   "metadata": {},
   "outputs": [
    {
     "data": {
      "text/plain": [
       "[('WAIKIKI 717.2, HI US', 'USC00519397', 81.0, 361),\n",
       " ('WAIHEE 837.5, HI US', 'USC00519281', 77.0, 352),\n",
       " ('MANOA LYON ARBO 785.2, HI US', 'USC00516128', 74.0, 349),\n",
       " ('KANEOHE 838.1, HI US', 'USC00513117', 76.0, 343),\n",
       " ('WAIMANALO EXPERIMENTAL FARM, HI US', 'USC00519523', 80.0, 337),\n",
       " ('KUALOA RANCH HEADQUARTERS 886.9, HI US', 'USC00514830', 80.0, 305),\n",
       " ('PEARL CITY, HI US', 'USC00517948', 80.0, 183)]"
      ]
     },
     "execution_count": 225,
     "metadata": {},
     "output_type": "execute_result"
    }
   ],
   "source": [
    "# checking the results of the above procudure held in the tobs_data variable.\n",
    "tobs_data"
   ]
  },
  {
   "cell_type": "code",
   "execution_count": 226,
   "metadata": {},
   "outputs": [
    {
     "data": {
      "text/plain": [
       "'WAIKIKI 717.2, HI US'"
      ]
     },
     "execution_count": 226,
     "metadata": {},
     "output_type": "execute_result"
    }
   ],
   "source": [
    "# verifing name of the station with most frequent temp observations.\n",
    "tobs_data[0][0]"
   ]
  },
  {
   "cell_type": "code",
   "execution_count": 227,
   "metadata": {},
   "outputs": [],
   "source": [
    "# Based on the above filtration, filtering the data to give us only the data of the station that had the most temperature observations for last 12 months.\n",
    "most_frequent_station = session.query(Measurement.station, Station.name, Measurement.tobs, Measurement.date).\\\n",
    "    filter(Measurement.station == Station.station).\\\n",
    "    filter(Measurement.date >= \"2016-08-23\").\\\n",
    "    filter(Measurement.date <= \"2017-08-23\").\\\n",
    "    filter(Station.name == tobs_data[0][0]).all()"
   ]
  },
  {
   "cell_type": "code",
   "execution_count": 228,
   "metadata": {},
   "outputs": [
    {
     "data": {
      "text/plain": [
       "[('USC00519397', 'WAIKIKI 717.2, HI US', 81.0, '2016-08-23'),\n",
       " ('USC00519397', 'WAIKIKI 717.2, HI US', 79.0, '2016-08-24'),\n",
       " ('USC00519397', 'WAIKIKI 717.2, HI US', 80.0, '2016-08-25'),\n",
       " ('USC00519397', 'WAIKIKI 717.2, HI US', 79.0, '2016-08-26'),\n",
       " ('USC00519397', 'WAIKIKI 717.2, HI US', 77.0, '2016-08-27'),\n",
       " ('USC00519397', 'WAIKIKI 717.2, HI US', 78.0, '2016-08-28'),\n",
       " ('USC00519397', 'WAIKIKI 717.2, HI US', 78.0, '2016-08-29'),\n",
       " ('USC00519397', 'WAIKIKI 717.2, HI US', 79.0, '2016-08-30'),\n",
       " ('USC00519397', 'WAIKIKI 717.2, HI US', 80.0, '2016-08-31'),\n",
       " ('USC00519397', 'WAIKIKI 717.2, HI US', 81.0, '2016-09-01')]"
      ]
     },
     "execution_count": 228,
     "metadata": {},
     "output_type": "execute_result"
    }
   ],
   "source": [
    "# verifing the above process worked.\n",
    "most_frequent_station[0:10]"
   ]
  },
  {
   "cell_type": "code",
   "execution_count": 229,
   "metadata": {},
   "outputs": [],
   "source": [
    "# creating a pandas dataframe from above list in order to create a histogram.\n",
    "tob_most_frequent_station = pd.DataFrame(most_frequent_station, columns=[\"Station\", \"Name of Station\", \"Temperature Observation\", \"Date\"])"
   ]
  },
  {
   "cell_type": "code",
   "execution_count": 230,
   "metadata": {},
   "outputs": [],
   "source": [
    "# removing the station columnns and date column.\n",
    "tob_most_frequent_station = tob_most_frequent_station[[\"Name of Station\", \"Temperature Observation\"]]"
   ]
  },
  {
   "cell_type": "code",
   "execution_count": 231,
   "metadata": {},
   "outputs": [
    {
     "data": {
      "text/html": [
       "<div>\n",
       "<style scoped>\n",
       "    .dataframe tbody tr th:only-of-type {\n",
       "        vertical-align: middle;\n",
       "    }\n",
       "\n",
       "    .dataframe tbody tr th {\n",
       "        vertical-align: top;\n",
       "    }\n",
       "\n",
       "    .dataframe thead th {\n",
       "        text-align: right;\n",
       "    }\n",
       "</style>\n",
       "<table border=\"1\" class=\"dataframe\">\n",
       "  <thead>\n",
       "    <tr style=\"text-align: right;\">\n",
       "      <th></th>\n",
       "      <th>Name of Station</th>\n",
       "      <th>Temperature Observation</th>\n",
       "    </tr>\n",
       "  </thead>\n",
       "  <tbody>\n",
       "    <tr>\n",
       "      <th>0</th>\n",
       "      <td>WAIKIKI 717.2, HI US</td>\n",
       "      <td>81.0</td>\n",
       "    </tr>\n",
       "    <tr>\n",
       "      <th>1</th>\n",
       "      <td>WAIKIKI 717.2, HI US</td>\n",
       "      <td>79.0</td>\n",
       "    </tr>\n",
       "    <tr>\n",
       "      <th>2</th>\n",
       "      <td>WAIKIKI 717.2, HI US</td>\n",
       "      <td>80.0</td>\n",
       "    </tr>\n",
       "    <tr>\n",
       "      <th>3</th>\n",
       "      <td>WAIKIKI 717.2, HI US</td>\n",
       "      <td>79.0</td>\n",
       "    </tr>\n",
       "    <tr>\n",
       "      <th>4</th>\n",
       "      <td>WAIKIKI 717.2, HI US</td>\n",
       "      <td>77.0</td>\n",
       "    </tr>\n",
       "  </tbody>\n",
       "</table>\n",
       "</div>"
      ],
      "text/plain": [
       "        Name of Station  Temperature Observation\n",
       "0  WAIKIKI 717.2, HI US                     81.0\n",
       "1  WAIKIKI 717.2, HI US                     79.0\n",
       "2  WAIKIKI 717.2, HI US                     80.0\n",
       "3  WAIKIKI 717.2, HI US                     79.0\n",
       "4  WAIKIKI 717.2, HI US                     77.0"
      ]
     },
     "execution_count": 231,
     "metadata": {},
     "output_type": "execute_result"
    }
   ],
   "source": [
    "# previewing the pandas_most_frequent_data dataframe.\n",
    "tob_most_frequent_station.head()"
   ]
  },
  {
   "cell_type": "code",
   "execution_count": 232,
   "metadata": {},
   "outputs": [
    {
     "data": {
      "text/plain": [
       "(60, 83)"
      ]
     },
     "execution_count": 232,
     "metadata": {},
     "output_type": "execute_result"
    },
    {
     "data": {
      "image/png": "[encoded data removed]",
      "text/plain": [
       "<Figure size 432x288 with 1 Axes>"
      ]
     },
     "metadata": {},
     "output_type": "display_data"
    }
   ],
   "source": [
    "# creating a histogram that shows the most frequent temperature observations in the last 12 months at Waikiki, which had the most temperature observations out of all the weather stations..\n",
    "tob_most_frequent_station.hist(bins=12)\n",
    "# labeling the histogram.\n",
    "plt.title(\"Frequency of Temperatures recorded at Waikiki for last 12 Months\")\n",
    "plt.ylabel(\"Frequency\")\n",
    "plt.xlabel(\"Temperature\")\n",
    "plt.xlim(60,83)\n",
    "# saving histogram as png file.\n",
    "# plt.savefig(\"Frequency of Temperatures recorded at Waikiki (station with most observations) for last 12 Months\")"
   ]
  }
 ],
 "metadata": {
  "kernelspec": {
   "display_name": "Python 3",
   "language": "python",
   "name": "python3"
  },
  "language_info": {
   "codemirror_mode": {
    "name": "ipython",
    "version": 3
   },
   "file_extension": ".py",
   "mimetype": "text/x-python",
   "name": "python",
   "nbconvert_exporter": "python",
   "pygments_lexer": "ipython3",
   "version": "3.7.3"
  }
 },
 "nbformat": 4,
 "nbformat_minor": 2
}
