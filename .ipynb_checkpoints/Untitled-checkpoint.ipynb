{
 "cells": [
  {
   "cell_type": "code",
   "execution_count": 179,
   "metadata": {},
   "outputs": [],
   "source": [
    "# Importing necessary modules to analyze and visualize the climate of Honolulu, Hawaii.\n",
    "%matplotlib inline\n",
    "from matplotlib import style\n",
    "style.use('fivethirtyeight')\n",
    "import matplotlib.pyplot as plt\n",
    "import numpy as np\n",
    "import pandas as pd \n",
    "import datetime as dt\n",
    "import sqlalchemy\n",
    "from sqlalchemy.ext.automap import automap_base\n",
    "from sqlalchemy.orm import Session\n",
    "from sqlalchemy import create_engine, func, inspect\n",
    "import pandas as pd\n",
    "import matplotlib.dates as mdates"
   ]
  },
  {
   "cell_type": "code",
   "execution_count": 2,
   "metadata": {},
   "outputs": [],
   "source": [
    "# setting path to hawaii.sqlite file.\n",
    "database_path = \"Resources/hawaii.sqlite\""
   ]
  },
  {
   "cell_type": "code",
   "execution_count": 3,
   "metadata": {},
   "outputs": [],
   "source": [
    "# creating a variable that creates and holds the starting point and home base of interaction between us(python) and the hawaii.sqlite database/local files.\n",
    "engine = create_engine(f\"sqlite:///{database_path}\")"
   ]
  },
  {
   "cell_type": "code",
   "execution_count": 4,
   "metadata": {},
   "outputs": [],
   "source": [
    "# using the automap_base  and prepare functions to create an automated mapping of the hawaii.sqlite database, such as a general layout of how the data is structured and related.\n",
    "Base = automap_base()\n",
    "# Using the prepare function to reflect the mapping.\n",
    "Base.prepare(engine, reflect=True)"
   ]
  },
  {
   "cell_type": "code",
   "execution_count": 5,
   "metadata": {},
   "outputs": [
    {
     "data": {
      "text/plain": [
       "['measurement', 'station']"
      ]
     },
     "execution_count": 5,
     "metadata": {},
     "output_type": "execute_result"
    }
   ],
   "source": [
    "# Using the functional Base variable created above to find out the names of the hawaii.sqlite classes/tables the automapping above created.\n",
    "Base.classes.keys()"
   ]
  },
  {
   "cell_type": "code",
   "execution_count": 6,
   "metadata": {},
   "outputs": [],
   "source": [
    "# saving the tabels that the automapping is referencing to variables for operation later on.\n",
    "Measurement = Base.classes.measurement\n",
    "Station = Base.classes.station"
   ]
  },
  {
   "cell_type": "code",
   "execution_count": 7,
   "metadata": {},
   "outputs": [],
   "source": [
    "# creating a session variable that will allow the our python scripts to communicate with the hawaii database.\n",
    "session = Session(engine)"
   ]
  },
  {
   "cell_type": "code",
   "execution_count": 8,
   "metadata": {},
   "outputs": [
    {
     "data": {
      "text/plain": [
       "{'_sa_instance_state': <sqlalchemy.orm.state.InstanceState at 0x24001774a90>,\n",
       " 'id': 1,\n",
       " 'prcp': 0.08,\n",
       " 'station': 'USC00519397',\n",
       " 'tobs': 65.0,\n",
       " 'date': '2010-01-01'}"
      ]
     },
     "execution_count": 8,
     "metadata": {},
     "output_type": "execute_result"
    }
   ],
   "source": [
    "# using the __dict__ function to get a feel for the mapping of the Measurement table.\n",
    "first_row = session.query(Measurement).first()\n",
    "first_row.__dict__"
   ]
  },
  {
   "cell_type": "code",
   "execution_count": 9,
   "metadata": {},
   "outputs": [
    {
     "data": {
      "text/plain": [
       "{'_sa_instance_state': <sqlalchemy.orm.state.InstanceState at 0x240017df9b0>,\n",
       " 'elevation': 3.0,\n",
       " 'latitude': 21.2716,\n",
       " 'station': 'USC00519397',\n",
       " 'id': 1,\n",
       " 'longitude': -157.8168,\n",
       " 'name': 'WAIKIKI 717.2, HI US'}"
      ]
     },
     "execution_count": 9,
     "metadata": {},
     "output_type": "execute_result"
    }
   ],
   "source": [
    "# using the __dict__ function like above to see the station data.\n",
    "first_row = session.query(Station).first()\n",
    "first_row.__dict__"
   ]
  },
  {
   "cell_type": "code",
   "execution_count": 10,
   "metadata": {},
   "outputs": [
    {
     "data": {
      "text/plain": [
       "('2017-08-23')"
      ]
     },
     "execution_count": 10,
     "metadata": {},
     "output_type": "execute_result"
    }
   ],
   "source": [
    "# seeing how  many years of data we have(2011-2017).\n",
    "session.query(Measurement.date).order_by(Measurement.date.desc()).first()"
   ]
  },
  {
   "cell_type": "code",
   "execution_count": 11,
   "metadata": {},
   "outputs": [],
   "source": [
    "# obtaining only the date and precipiation columns and filtering out so we only have 2017 data.\n",
    "date_str = \"2017\"\n",
    "data_2017 = session.query(Measurement.date, Measurement.prcp).\\\n",
    "    filter(func.strftime(\"%Y\", Measurement.date) == date_str).all()"
   ]
  },
  {
   "cell_type": "code",
   "execution_count": 12,
   "metadata": {},
   "outputs": [],
   "source": [
    "# creating a pandas dataframe out of the data_2017 data created above.\n",
    "pandas_data_2017 = pd.DataFrame(data_2017)"
   ]
  },
  {
   "cell_type": "code",
   "execution_count": 126,
   "metadata": {},
   "outputs": [
    {
     "data": {
      "text/html": [
       "<div>\n",
       "<style scoped>\n",
       "    .dataframe tbody tr th:only-of-type {\n",
       "        vertical-align: middle;\n",
       "    }\n",
       "\n",
       "    .dataframe tbody tr th {\n",
       "        vertical-align: top;\n",
       "    }\n",
       "\n",
       "    .dataframe thead th {\n",
       "        text-align: right;\n",
       "    }\n",
       "</style>\n",
       "<table border=\"1\" class=\"dataframe\">\n",
       "  <thead>\n",
       "    <tr style=\"text-align: right;\">\n",
       "      <th></th>\n",
       "      <th>prcp</th>\n",
       "    </tr>\n",
       "    <tr>\n",
       "      <th>date</th>\n",
       "      <th></th>\n",
       "    </tr>\n",
       "  </thead>\n",
       "  <tbody>\n",
       "    <tr>\n",
       "      <th>2017-01-01</th>\n",
       "      <td>0.0</td>\n",
       "    </tr>\n",
       "    <tr>\n",
       "      <th>2017-01-02</th>\n",
       "      <td>0.0</td>\n",
       "    </tr>\n",
       "    <tr>\n",
       "      <th>2017-01-03</th>\n",
       "      <td>0.0</td>\n",
       "    </tr>\n",
       "    <tr>\n",
       "      <th>2017-01-04</th>\n",
       "      <td>0.0</td>\n",
       "    </tr>\n",
       "    <tr>\n",
       "      <th>2017-01-05</th>\n",
       "      <td>0.0</td>\n",
       "    </tr>\n",
       "  </tbody>\n",
       "</table>\n",
       "</div>"
      ],
      "text/plain": [
       "            prcp\n",
       "date            \n",
       "2017-01-01   0.0\n",
       "2017-01-02   0.0\n",
       "2017-01-03   0.0\n",
       "2017-01-04   0.0\n",
       "2017-01-05   0.0"
      ]
     },
     "execution_count": 126,
     "metadata": {},
     "output_type": "execute_result"
    }
   ],
   "source": [
    "# previewing pandas_data_2017 data\n",
    "pandas_data_2017.head()"
   ]
  },
  {
   "cell_type": "code",
   "execution_count": 14,
   "metadata": {},
   "outputs": [],
   "source": [
    "# setting the pandas_data_2017 index as the date.\n",
    "pandas_data_2017 = pandas_data_2017.set_index(\"date\")"
   ]
  },
  {
   "cell_type": "code",
   "execution_count": 15,
   "metadata": {},
   "outputs": [
    {
     "data": {
      "text/html": [
       "<div>\n",
       "<style scoped>\n",
       "    .dataframe tbody tr th:only-of-type {\n",
       "        vertical-align: middle;\n",
       "    }\n",
       "\n",
       "    .dataframe tbody tr th {\n",
       "        vertical-align: top;\n",
       "    }\n",
       "\n",
       "    .dataframe thead th {\n",
       "        text-align: right;\n",
       "    }\n",
       "</style>\n",
       "<table border=\"1\" class=\"dataframe\">\n",
       "  <thead>\n",
       "    <tr style=\"text-align: right;\">\n",
       "      <th></th>\n",
       "      <th>prcp</th>\n",
       "    </tr>\n",
       "    <tr>\n",
       "      <th>date</th>\n",
       "      <th></th>\n",
       "    </tr>\n",
       "  </thead>\n",
       "  <tbody>\n",
       "    <tr>\n",
       "      <th>2017-01-01</th>\n",
       "      <td>0.0</td>\n",
       "    </tr>\n",
       "    <tr>\n",
       "      <th>2017-01-02</th>\n",
       "      <td>0.0</td>\n",
       "    </tr>\n",
       "    <tr>\n",
       "      <th>2017-01-03</th>\n",
       "      <td>0.0</td>\n",
       "    </tr>\n",
       "    <tr>\n",
       "      <th>2017-01-04</th>\n",
       "      <td>0.0</td>\n",
       "    </tr>\n",
       "    <tr>\n",
       "      <th>2017-01-05</th>\n",
       "      <td>0.0</td>\n",
       "    </tr>\n",
       "  </tbody>\n",
       "</table>\n",
       "</div>"
      ],
      "text/plain": [
       "            prcp\n",
       "date            \n",
       "2017-01-01   0.0\n",
       "2017-01-02   0.0\n",
       "2017-01-03   0.0\n",
       "2017-01-04   0.0\n",
       "2017-01-05   0.0"
      ]
     },
     "execution_count": 15,
     "metadata": {},
     "output_type": "execute_result"
    }
   ],
   "source": [
    "# previewing the change made above.\n",
    "pandas_data_2017.head()"
   ]
  },
  {
   "cell_type": "code",
   "execution_count": 16,
   "metadata": {},
   "outputs": [],
   "source": [
    "# sorting the pandas_data_2017 to have all dates appear in order.\n",
    "sorted_pandas_data_2017 = pandas_data_2017.sort_index().reset_index()"
   ]
  },
  {
   "cell_type": "code",
   "execution_count": 176,
   "metadata": {},
   "outputs": [
    {
     "data": {
      "text/html": [
       "<div>\n",
       "<style scoped>\n",
       "    .dataframe tbody tr th:only-of-type {\n",
       "        vertical-align: middle;\n",
       "    }\n",
       "\n",
       "    .dataframe tbody tr th {\n",
       "        vertical-align: top;\n",
       "    }\n",
       "\n",
       "    .dataframe thead th {\n",
       "        text-align: right;\n",
       "    }\n",
       "</style>\n",
       "<table border=\"1\" class=\"dataframe\">\n",
       "  <thead>\n",
       "    <tr style=\"text-align: right;\">\n",
       "      <th></th>\n",
       "      <th>date</th>\n",
       "      <th>prcp</th>\n",
       "    </tr>\n",
       "  </thead>\n",
       "  <tbody>\n",
       "    <tr>\n",
       "      <th>0</th>\n",
       "      <td>2017-01-01</td>\n",
       "      <td>0.00</td>\n",
       "    </tr>\n",
       "    <tr>\n",
       "      <th>1</th>\n",
       "      <td>2017-01-01</td>\n",
       "      <td>0.00</td>\n",
       "    </tr>\n",
       "    <tr>\n",
       "      <th>2</th>\n",
       "      <td>2017-01-01</td>\n",
       "      <td>0.03</td>\n",
       "    </tr>\n",
       "    <tr>\n",
       "      <th>3</th>\n",
       "      <td>2017-01-01</td>\n",
       "      <td>0.03</td>\n",
       "    </tr>\n",
       "    <tr>\n",
       "      <th>4</th>\n",
       "      <td>2017-01-01</td>\n",
       "      <td>0.29</td>\n",
       "    </tr>\n",
       "  </tbody>\n",
       "</table>\n",
       "</div>"
      ],
      "text/plain": [
       "         date  prcp\n",
       "0  2017-01-01  0.00\n",
       "1  2017-01-01  0.00\n",
       "2  2017-01-01  0.03\n",
       "3  2017-01-01  0.03\n",
       "4  2017-01-01  0.29"
      ]
     },
     "execution_count": 176,
     "metadata": {},
     "output_type": "execute_result"
    }
   ],
   "source": [
    "# verifying the data is sorted by dates.\n",
    "sorted_pandas_data_2017.head()"
   ]
  },
  {
   "cell_type": "code",
   "execution_count": 68,
   "metadata": {},
   "outputs": [
    {
     "name": "stdout",
     "output_type": "stream",
     "text": [
      "1397\n"
     ]
    }
   ],
   "source": [
    "# x_axis = np.arange(len(sorted_pandas_data_2017))\n",
    "# dates = []\n",
    "# for date in sorted_pandas_data_2017[\"date\"]:\n",
    "#     dates.append(date)\n",
    "# ticker_locations = [values for values in x_axis]\n",
    "# print(len(x_axis))"
   ]
  },
  {
   "cell_type": "code",
   "execution_count": 199,
   "metadata": {},
   "outputs": [
    {
     "data": {
      "image/png": "[encoded data removed]",
      "text/plain": [
       "<Figure size 432x288 with 1 Axes>"
      ]
     },
     "metadata": {},
     "output_type": "display_data"
    }
   ],
   "source": [
    "# creating a barchart that measures precipitation levels throughout 2017 by stations.\n",
    "fig, ax = plt.subplots()\n",
    "sorted_pandas_data_2017.plot(ax=ax)\n",
    "#set ticks every week\n",
    "ax.xaxis.set_major_locator(mdates.MonthLocator())\n",
    "#set major ticks format\n",
    "ax.xaxis.set_major_formatter(mdates.DateFormatter('%Y''%m'))"
   ]
  },
  {
   "cell_type": "code",
   "execution_count": 55,
   "metadata": {},
   "outputs": [
    {
     "name": "stdout",
     "output_type": "stream",
     "text": [
      "There are 9 stations in our hawaii database\n"
     ]
    }
   ],
   "source": [
    "# calculating the total number of weather stations in our database in hawaii.\n",
    "number_of_stations = session.query(Station.id).count()\n",
    "print(f\"There are {number_of_stations} stations in our hawaii database\")"
   ]
  },
  {
   "cell_type": "code",
   "execution_count": 56,
   "metadata": {},
   "outputs": [],
   "source": [
    "# counting the number of observations(temperature observations data) of each station from 2011-2017 and recording them in order from greatest to least in a list variable.\n",
    "observation_count = session.query(Measurement.station, Station.station, func.count(Measurement.tobs)).\\\n",
    "    filter(Measurement.station == Station.station).group_by(Measurement.station).order_by(func.count(Measurement.tobs).desc()).all()"
   ]
  },
  {
   "cell_type": "code",
   "execution_count": 54,
   "metadata": {},
   "outputs": [
    {
     "data": {
      "text/plain": [
       "[('USC00519281', 'USC00519281', 2772),\n",
       " ('USC00519397', 'USC00519397', 2724),\n",
       " ('USC00513117', 'USC00513117', 2709),\n",
       " ('USC00519523', 'USC00519523', 2669),\n",
       " ('USC00516128', 'USC00516128', 2612),\n",
       " ('USC00514830', 'USC00514830', 2202),\n",
       " ('USC00511918', 'USC00511918', 1979),\n",
       " ('USC00517948', 'USC00517948', 1372),\n",
       " ('USC00518838', 'USC00518838', 511)]"
      ]
     },
     "execution_count": 54,
     "metadata": {},
     "output_type": "execute_result"
    }
   ],
   "source": [
    "# checking the results of the observation count query preformed above that is contained in a list variable.\n",
    "observation_count"
   ]
  },
  {
   "cell_type": "code",
   "execution_count": 23,
   "metadata": {},
   "outputs": [
    {
     "name": "stdout",
     "output_type": "stream",
     "text": [
      "Station USC00519281 had the most temperature observation data recordings totaling 2772 from 2011-2017.\n"
     ]
    }
   ],
   "source": [
    "# printing what station had most temperature observations from 2011-2017 and the ccorresponding number of recordings.\n",
    "print(f\"Station {observation_count[0][0]} had the most temperature observation data recordings totaling {observation_count[0][2]} from 2011-2017.\")"
   ]
  },
  {
   "cell_type": "code",
   "execution_count": 24,
   "metadata": {},
   "outputs": [],
   "source": [
    "# counting the number of temperature observations in 2017 according to each station and ordering them from greatest to least within a list variable.\n",
    "data_str = \"2017\"\n",
    "tobs_data = session.query(Measurement.station, Station.station, Measurement.tobs, func.count(Measurement.tobs)).\\\n",
    "    filter(Measurement.station == Station.station).\\\n",
    "    filter(func.strftime(\"%Y\", Measurement.date) == date_str).group_by(Measurement.station).order_by(func.count(Measurement.tobs).desc()).all()"
   ]
  },
  {
   "cell_type": "code",
   "execution_count": 25,
   "metadata": {},
   "outputs": [
    {
     "data": {
      "text/plain": [
       "[('USC00519397', 'USC00519397', 62.0, 230),\n",
       " ('USC00516128', 'USC00516128', 68.0, 222),\n",
       " ('USC00519281', 'USC00519281', 72.0, 221),\n",
       " ('USC00513117', 'USC00513117', 66.0, 212),\n",
       " ('USC00519523', 'USC00519523', 74.0, 210),\n",
       " ('USC00514830', 'USC00514830', 74.0, 195),\n",
       " ('USC00517948', 'USC00517948', 65.0, 107)]"
      ]
     },
     "execution_count": 25,
     "metadata": {},
     "output_type": "execute_result"
    }
   ],
   "source": [
    "# checking the results of the above procudure held in the tobs_data variable.\n",
    "tobs_data"
   ]
  },
  {
   "cell_type": "code",
   "execution_count": 26,
   "metadata": {},
   "outputs": [
    {
     "data": {
      "text/plain": [
       "'USC00519397'"
      ]
     },
     "execution_count": 26,
     "metadata": {},
     "output_type": "execute_result"
    }
   ],
   "source": [
    "# verifing name of station with most frequent temp observations.\n",
    "tobs_data[0][0]"
   ]
  },
  {
   "cell_type": "code",
   "execution_count": 27,
   "metadata": {},
   "outputs": [],
   "source": [
    "# Based on the above filtration, filtering the data to give us only the data of the station that had the most temperature observations in 2017.\n",
    "date_str = \"2017\"\n",
    "most_frequent_data = session.query(Measurement.station, Station.station, Station.name, Measurement.tobs, Measurement.date).\\\n",
    "    filter(Measurement.station == Station.station).\\\n",
    "    filter(func.strftime(\"%Y\", Measurement.date) == date_str).\\\n",
    "    filter(Measurement.station == tobs_data[0][0]).all()"
   ]
  },
  {
   "cell_type": "code",
   "execution_count": 60,
   "metadata": {},
   "outputs": [
    {
     "data": {
      "text/plain": [
       "[('USC00519397', 'USC00519397', 'WAIKIKI 717.2, HI US', 62.0, '2017-01-01'),\n",
       " ('USC00519397', 'USC00519397', 'WAIKIKI 717.2, HI US', 66.0, '2017-01-02'),\n",
       " ('USC00519397', 'USC00519397', 'WAIKIKI 717.2, HI US', 63.0, '2017-01-03'),\n",
       " ('USC00519397', 'USC00519397', 'WAIKIKI 717.2, HI US', 62.0, '2017-01-04'),\n",
       " ('USC00519397', 'USC00519397', 'WAIKIKI 717.2, HI US', 63.0, '2017-01-05'),\n",
       " ('USC00519397', 'USC00519397', 'WAIKIKI 717.2, HI US', 64.0, '2017-01-06'),\n",
       " ('USC00519397', 'USC00519397', 'WAIKIKI 717.2, HI US', 66.0, '2017-01-07'),\n",
       " ('USC00519397', 'USC00519397', 'WAIKIKI 717.2, HI US', 60.0, '2017-01-08'),\n",
       " ('USC00519397', 'USC00519397', 'WAIKIKI 717.2, HI US', 64.0, '2017-01-09'),\n",
       " ('USC00519397', 'USC00519397', 'WAIKIKI 717.2, HI US', 63.0, '2017-01-10'),\n",
       " ('USC00519397', 'USC00519397', 'WAIKIKI 717.2, HI US', 78.0, '2017-01-11'),\n",
       " ('USC00519397', 'USC00519397', 'WAIKIKI 717.2, HI US', 67.0, '2017-01-12'),\n",
       " ('USC00519397', 'USC00519397', 'WAIKIKI 717.2, HI US', 67.0, '2017-01-13'),\n",
       " ('USC00519397', 'USC00519397', 'WAIKIKI 717.2, HI US', 65.0, '2017-01-14'),\n",
       " ('USC00519397', 'USC00519397', 'WAIKIKI 717.2, HI US', 66.0, '2017-01-15'),\n",
       " ('USC00519397', 'USC00519397', 'WAIKIKI 717.2, HI US', 67.0, '2017-01-16'),\n",
       " ('USC00519397', 'USC00519397', 'WAIKIKI 717.2, HI US', 66.0, '2017-01-17'),\n",
       " ('USC00519397', 'USC00519397', 'WAIKIKI 717.2, HI US', 72.0, '2017-01-18'),\n",
       " ('USC00519397', 'USC00519397', 'WAIKIKI 717.2, HI US', 73.0, '2017-01-19'),\n",
       " ('USC00519397', 'USC00519397', 'WAIKIKI 717.2, HI US', 71.0, '2017-01-20'),\n",
       " ('USC00519397', 'USC00519397', 'WAIKIKI 717.2, HI US', 72.0, '2017-01-21'),\n",
       " ('USC00519397', 'USC00519397', 'WAIKIKI 717.2, HI US', 72.0, '2017-01-22'),\n",
       " ('USC00519397', 'USC00519397', 'WAIKIKI 717.2, HI US', 72.0, '2017-01-23'),\n",
       " ('USC00519397', 'USC00519397', 'WAIKIKI 717.2, HI US', 69.0, '2017-01-24'),\n",
       " ('USC00519397', 'USC00519397', 'WAIKIKI 717.2, HI US', 72.0, '2017-01-25'),\n",
       " ('USC00519397', 'USC00519397', 'WAIKIKI 717.2, HI US', 71.0, '2017-01-26'),\n",
       " ('USC00519397', 'USC00519397', 'WAIKIKI 717.2, HI US', 65.0, '2017-01-27'),\n",
       " ('USC00519397', 'USC00519397', 'WAIKIKI 717.2, HI US', 64.0, '2017-01-28'),\n",
       " ('USC00519397', 'USC00519397', 'WAIKIKI 717.2, HI US', 67.0, '2017-01-29'),\n",
       " ('USC00519397', 'USC00519397', 'WAIKIKI 717.2, HI US', 67.0, '2017-01-30'),\n",
       " ('USC00519397', 'USC00519397', 'WAIKIKI 717.2, HI US', 68.0, '2017-01-31'),\n",
       " ('USC00519397', 'USC00519397', 'WAIKIKI 717.2, HI US', 70.0, '2017-02-01'),\n",
       " ('USC00519397', 'USC00519397', 'WAIKIKI 717.2, HI US', 61.0, '2017-02-02'),\n",
       " ('USC00519397', 'USC00519397', 'WAIKIKI 717.2, HI US', 65.0, '2017-02-03'),\n",
       " ('USC00519397', 'USC00519397', 'WAIKIKI 717.2, HI US', 72.0, '2017-02-04'),\n",
       " ('USC00519397', 'USC00519397', 'WAIKIKI 717.2, HI US', 73.0, '2017-02-05'),\n",
       " ('USC00519397', 'USC00519397', 'WAIKIKI 717.2, HI US', 76.0, '2017-02-06'),\n",
       " ('USC00519397', 'USC00519397', 'WAIKIKI 717.2, HI US', 64.0, '2017-02-07'),\n",
       " ('USC00519397', 'USC00519397', 'WAIKIKI 717.2, HI US', 62.0, '2017-02-08'),\n",
       " ('USC00519397', 'USC00519397', 'WAIKIKI 717.2, HI US', 61.0, '2017-02-09'),\n",
       " ('USC00519397', 'USC00519397', 'WAIKIKI 717.2, HI US', 71.0, '2017-02-10'),\n",
       " ('USC00519397', 'USC00519397', 'WAIKIKI 717.2, HI US', 69.0, '2017-02-11'),\n",
       " ('USC00519397', 'USC00519397', 'WAIKIKI 717.2, HI US', 68.0, '2017-02-12'),\n",
       " ('USC00519397', 'USC00519397', 'WAIKIKI 717.2, HI US', 74.0, '2017-02-13'),\n",
       " ('USC00519397', 'USC00519397', 'WAIKIKI 717.2, HI US', 75.0, '2017-02-14'),\n",
       " ('USC00519397', 'USC00519397', 'WAIKIKI 717.2, HI US', 75.0, '2017-02-15'),\n",
       " ('USC00519397', 'USC00519397', 'WAIKIKI 717.2, HI US', 71.0, '2017-02-16'),\n",
       " ('USC00519397', 'USC00519397', 'WAIKIKI 717.2, HI US', 71.0, '2017-02-17'),\n",
       " ('USC00519397', 'USC00519397', 'WAIKIKI 717.2, HI US', 68.0, '2017-02-18'),\n",
       " ('USC00519397', 'USC00519397', 'WAIKIKI 717.2, HI US', 69.0, '2017-02-19'),\n",
       " ('USC00519397', 'USC00519397', 'WAIKIKI 717.2, HI US', 71.0, '2017-02-20'),\n",
       " ('USC00519397', 'USC00519397', 'WAIKIKI 717.2, HI US', 70.0, '2017-02-21'),\n",
       " ('USC00519397', 'USC00519397', 'WAIKIKI 717.2, HI US', 72.0, '2017-02-22'),\n",
       " ('USC00519397', 'USC00519397', 'WAIKIKI 717.2, HI US', 74.0, '2017-02-23'),\n",
       " ('USC00519397', 'USC00519397', 'WAIKIKI 717.2, HI US', 70.0, '2017-02-24'),\n",
       " ('USC00519397', 'USC00519397', 'WAIKIKI 717.2, HI US', 64.0, '2017-02-25'),\n",
       " ('USC00519397', 'USC00519397', 'WAIKIKI 717.2, HI US', 65.0, '2017-02-26'),\n",
       " ('USC00519397', 'USC00519397', 'WAIKIKI 717.2, HI US', 72.0, '2017-02-27'),\n",
       " ('USC00519397', 'USC00519397', 'WAIKIKI 717.2, HI US', 74.0, '2017-02-28'),\n",
       " ('USC00519397', 'USC00519397', 'WAIKIKI 717.2, HI US', 66.0, '2017-03-01'),\n",
       " ('USC00519397', 'USC00519397', 'WAIKIKI 717.2, HI US', 73.0, '2017-03-02'),\n",
       " ('USC00519397', 'USC00519397', 'WAIKIKI 717.2, HI US', 69.0, '2017-03-03'),\n",
       " ('USC00519397', 'USC00519397', 'WAIKIKI 717.2, HI US', 74.0, '2017-03-04'),\n",
       " ('USC00519397', 'USC00519397', 'WAIKIKI 717.2, HI US', 71.0, '2017-03-05'),\n",
       " ('USC00519397', 'USC00519397', 'WAIKIKI 717.2, HI US', 69.0, '2017-03-06'),\n",
       " ('USC00519397', 'USC00519397', 'WAIKIKI 717.2, HI US', 68.0, '2017-03-07'),\n",
       " ('USC00519397', 'USC00519397', 'WAIKIKI 717.2, HI US', 71.0, '2017-03-08'),\n",
       " ('USC00519397', 'USC00519397', 'WAIKIKI 717.2, HI US', 72.0, '2017-03-09'),\n",
       " ('USC00519397', 'USC00519397', 'WAIKIKI 717.2, HI US', 68.0, '2017-03-10'),\n",
       " ('USC00519397', 'USC00519397', 'WAIKIKI 717.2, HI US', 71.0, '2017-03-11'),\n",
       " ('USC00519397', 'USC00519397', 'WAIKIKI 717.2, HI US', 74.0, '2017-03-12'),\n",
       " ('USC00519397', 'USC00519397', 'WAIKIKI 717.2, HI US', 71.0, '2017-03-13'),\n",
       " ('USC00519397', 'USC00519397', 'WAIKIKI 717.2, HI US', 71.0, '2017-03-14'),\n",
       " ('USC00519397', 'USC00519397', 'WAIKIKI 717.2, HI US', 71.0, '2017-03-15'),\n",
       " ('USC00519397', 'USC00519397', 'WAIKIKI 717.2, HI US', 70.0, '2017-03-16'),\n",
       " ('USC00519397', 'USC00519397', 'WAIKIKI 717.2, HI US', 72.0, '2017-03-17'),\n",
       " ('USC00519397', 'USC00519397', 'WAIKIKI 717.2, HI US', 69.0, '2017-03-18'),\n",
       " ('USC00519397', 'USC00519397', 'WAIKIKI 717.2, HI US', 73.0, '2017-03-19'),\n",
       " ('USC00519397', 'USC00519397', 'WAIKIKI 717.2, HI US', 75.0, '2017-03-20'),\n",
       " ('USC00519397', 'USC00519397', 'WAIKIKI 717.2, HI US', 75.0, '2017-03-21'),\n",
       " ('USC00519397', 'USC00519397', 'WAIKIKI 717.2, HI US', 74.0, '2017-03-22'),\n",
       " ('USC00519397', 'USC00519397', 'WAIKIKI 717.2, HI US', 70.0, '2017-03-23'),\n",
       " ('USC00519397', 'USC00519397', 'WAIKIKI 717.2, HI US', 73.0, '2017-03-24'),\n",
       " ('USC00519397', 'USC00519397', 'WAIKIKI 717.2, HI US', 76.0, '2017-03-25'),\n",
       " ('USC00519397', 'USC00519397', 'WAIKIKI 717.2, HI US', 76.0, '2017-03-26'),\n",
       " ('USC00519397', 'USC00519397', 'WAIKIKI 717.2, HI US', 75.0, '2017-03-27'),\n",
       " ('USC00519397', 'USC00519397', 'WAIKIKI 717.2, HI US', 77.0, '2017-03-28'),\n",
       " ('USC00519397', 'USC00519397', 'WAIKIKI 717.2, HI US', 76.0, '2017-03-29'),\n",
       " ('USC00519397', 'USC00519397', 'WAIKIKI 717.2, HI US', 77.0, '2017-03-30'),\n",
       " ('USC00519397', 'USC00519397', 'WAIKIKI 717.2, HI US', 76.0, '2017-03-31'),\n",
       " ('USC00519397', 'USC00519397', 'WAIKIKI 717.2, HI US', 76.0, '2017-04-01'),\n",
       " ('USC00519397', 'USC00519397', 'WAIKIKI 717.2, HI US', 76.0, '2017-04-02'),\n",
       " ('USC00519397', 'USC00519397', 'WAIKIKI 717.2, HI US', 77.0, '2017-04-03'),\n",
       " ('USC00519397', 'USC00519397', 'WAIKIKI 717.2, HI US', 76.0, '2017-04-04'),\n",
       " ('USC00519397', 'USC00519397', 'WAIKIKI 717.2, HI US', 78.0, '2017-04-05'),\n",
       " ('USC00519397', 'USC00519397', 'WAIKIKI 717.2, HI US', 77.0, '2017-04-06'),\n",
       " ('USC00519397', 'USC00519397', 'WAIKIKI 717.2, HI US', 77.0, '2017-04-07'),\n",
       " ('USC00519397', 'USC00519397', 'WAIKIKI 717.2, HI US', 77.0, '2017-04-08'),\n",
       " ('USC00519397', 'USC00519397', 'WAIKIKI 717.2, HI US', 72.0, '2017-04-09'),\n",
       " ('USC00519397', 'USC00519397', 'WAIKIKI 717.2, HI US', 75.0, '2017-04-10'),\n",
       " ('USC00519397', 'USC00519397', 'WAIKIKI 717.2, HI US', 79.0, '2017-04-11'),\n",
       " ('USC00519397', 'USC00519397', 'WAIKIKI 717.2, HI US', 78.0, '2017-04-12'),\n",
       " ('USC00519397', 'USC00519397', 'WAIKIKI 717.2, HI US', 77.0, '2017-04-13'),\n",
       " ('USC00519397', 'USC00519397', 'WAIKIKI 717.2, HI US', 75.0, '2017-04-14'),\n",
       " ('USC00519397', 'USC00519397', 'WAIKIKI 717.2, HI US', 73.0, '2017-04-15'),\n",
       " ('USC00519397', 'USC00519397', 'WAIKIKI 717.2, HI US', 74.0, '2017-04-16'),\n",
       " ('USC00519397', 'USC00519397', 'WAIKIKI 717.2, HI US', 74.0, '2017-04-17'),\n",
       " ('USC00519397', 'USC00519397', 'WAIKIKI 717.2, HI US', 75.0, '2017-04-18'),\n",
       " ('USC00519397', 'USC00519397', 'WAIKIKI 717.2, HI US', 74.0, '2017-04-19'),\n",
       " ('USC00519397', 'USC00519397', 'WAIKIKI 717.2, HI US', 78.0, '2017-04-20'),\n",
       " ('USC00519397', 'USC00519397', 'WAIKIKI 717.2, HI US', 73.0, '2017-04-21'),\n",
       " ('USC00519397', 'USC00519397', 'WAIKIKI 717.2, HI US', 76.0, '2017-04-22'),\n",
       " ('USC00519397', 'USC00519397', 'WAIKIKI 717.2, HI US', 77.0, '2017-04-23'),\n",
       " ('USC00519397', 'USC00519397', 'WAIKIKI 717.2, HI US', 77.0, '2017-04-24'),\n",
       " ('USC00519397', 'USC00519397', 'WAIKIKI 717.2, HI US', 77.0, '2017-04-25'),\n",
       " ('USC00519397', 'USC00519397', 'WAIKIKI 717.2, HI US', 77.0, '2017-04-26'),\n",
       " ('USC00519397', 'USC00519397', 'WAIKIKI 717.2, HI US', 78.0, '2017-04-27'),\n",
       " ('USC00519397', 'USC00519397', 'WAIKIKI 717.2, HI US', 76.0, '2017-04-28'),\n",
       " ('USC00519397', 'USC00519397', 'WAIKIKI 717.2, HI US', 72.0, '2017-04-29'),\n",
       " ('USC00519397', 'USC00519397', 'WAIKIKI 717.2, HI US', 63.0, '2017-04-30'),\n",
       " ('USC00519397', 'USC00519397', 'WAIKIKI 717.2, HI US', 75.0, '2017-05-01'),\n",
       " ('USC00519397', 'USC00519397', 'WAIKIKI 717.2, HI US', 78.0, '2017-05-02'),\n",
       " ('USC00519397', 'USC00519397', 'WAIKIKI 717.2, HI US', 78.0, '2017-05-03'),\n",
       " ('USC00519397', 'USC00519397', 'WAIKIKI 717.2, HI US', 78.0, '2017-05-04'),\n",
       " ('USC00519397', 'USC00519397', 'WAIKIKI 717.2, HI US', 79.0, '2017-05-05'),\n",
       " ('USC00519397', 'USC00519397', 'WAIKIKI 717.2, HI US', 79.0, '2017-05-06'),\n",
       " ('USC00519397', 'USC00519397', 'WAIKIKI 717.2, HI US', 79.0, '2017-05-07'),\n",
       " ('USC00519397', 'USC00519397', 'WAIKIKI 717.2, HI US', 77.0, '2017-05-08'),\n",
       " ('USC00519397', 'USC00519397', 'WAIKIKI 717.2, HI US', 78.0, '2017-05-10'),\n",
       " ('USC00519397', 'USC00519397', 'WAIKIKI 717.2, HI US', 78.0, '2017-05-11'),\n",
       " ('USC00519397', 'USC00519397', 'WAIKIKI 717.2, HI US', 79.0, '2017-05-12'),\n",
       " ('USC00519397', 'USC00519397', 'WAIKIKI 717.2, HI US', 79.0, '2017-05-13'),\n",
       " ('USC00519397', 'USC00519397', 'WAIKIKI 717.2, HI US', 77.0, '2017-05-14'),\n",
       " ('USC00519397', 'USC00519397', 'WAIKIKI 717.2, HI US', 78.0, '2017-05-15'),\n",
       " ('USC00519397', 'USC00519397', 'WAIKIKI 717.2, HI US', 78.0, '2017-05-16'),\n",
       " ('USC00519397', 'USC00519397', 'WAIKIKI 717.2, HI US', 78.0, '2017-05-17'),\n",
       " ('USC00519397', 'USC00519397', 'WAIKIKI 717.2, HI US', 73.0, '2017-05-18'),\n",
       " ('USC00519397', 'USC00519397', 'WAIKIKI 717.2, HI US', 76.0, '2017-05-19'),\n",
       " ('USC00519397', 'USC00519397', 'WAIKIKI 717.2, HI US', 78.0, '2017-05-20'),\n",
       " ('USC00519397', 'USC00519397', 'WAIKIKI 717.2, HI US', 76.0, '2017-05-21'),\n",
       " ('USC00519397', 'USC00519397', 'WAIKIKI 717.2, HI US', 77.0, '2017-05-22'),\n",
       " ('USC00519397', 'USC00519397', 'WAIKIKI 717.2, HI US', 87.0, '2017-05-23'),\n",
       " ('USC00519397', 'USC00519397', 'WAIKIKI 717.2, HI US', 77.0, '2017-05-24'),\n",
       " ('USC00519397', 'USC00519397', 'WAIKIKI 717.2, HI US', 77.0, '2017-05-25'),\n",
       " ('USC00519397', 'USC00519397', 'WAIKIKI 717.2, HI US', 74.0, '2017-05-27'),\n",
       " ('USC00519397', 'USC00519397', 'WAIKIKI 717.2, HI US', 76.0, '2017-05-28'),\n",
       " ('USC00519397', 'USC00519397', 'WAIKIKI 717.2, HI US', 75.0, '2017-05-29'),\n",
       " ('USC00519397', 'USC00519397', 'WAIKIKI 717.2, HI US', 76.0, '2017-05-30'),\n",
       " ('USC00519397', 'USC00519397', 'WAIKIKI 717.2, HI US', 79.0, '2017-05-31'),\n",
       " ('USC00519397', 'USC00519397', 'WAIKIKI 717.2, HI US', 79.0, '2017-06-01'),\n",
       " ('USC00519397', 'USC00519397', 'WAIKIKI 717.2, HI US', 79.0, '2017-06-02'),\n",
       " ('USC00519397', 'USC00519397', 'WAIKIKI 717.2, HI US', 79.0, '2017-06-03'),\n",
       " ('USC00519397', 'USC00519397', 'WAIKIKI 717.2, HI US', 79.0, '2017-06-04'),\n",
       " ('USC00519397', 'USC00519397', 'WAIKIKI 717.2, HI US', 80.0, '2017-06-05'),\n",
       " ('USC00519397', 'USC00519397', 'WAIKIKI 717.2, HI US', 79.0, '2017-06-06'),\n",
       " ('USC00519397', 'USC00519397', 'WAIKIKI 717.2, HI US', 79.0, '2017-06-07'),\n",
       " ('USC00519397', 'USC00519397', 'WAIKIKI 717.2, HI US', 80.0, '2017-06-08'),\n",
       " ('USC00519397', 'USC00519397', 'WAIKIKI 717.2, HI US', 80.0, '2017-06-09'),\n",
       " ('USC00519397', 'USC00519397', 'WAIKIKI 717.2, HI US', 77.0, '2017-06-10'),\n",
       " ('USC00519397', 'USC00519397', 'WAIKIKI 717.2, HI US', 79.0, '2017-06-11'),\n",
       " ('USC00519397', 'USC00519397', 'WAIKIKI 717.2, HI US', 83.0, '2017-06-12'),\n",
       " ('USC00519397', 'USC00519397', 'WAIKIKI 717.2, HI US', 80.0, '2017-06-13'),\n",
       " ('USC00519397', 'USC00519397', 'WAIKIKI 717.2, HI US', 80.0, '2017-06-14'),\n",
       " ('USC00519397', 'USC00519397', 'WAIKIKI 717.2, HI US', 78.0, '2017-06-15'),\n",
       " ('USC00519397', 'USC00519397', 'WAIKIKI 717.2, HI US', 79.0, '2017-06-16'),\n",
       " ('USC00519397', 'USC00519397', 'WAIKIKI 717.2, HI US', 80.0, '2017-06-17'),\n",
       " ('USC00519397', 'USC00519397', 'WAIKIKI 717.2, HI US', 77.0, '2017-06-18'),\n",
       " ('USC00519397', 'USC00519397', 'WAIKIKI 717.2, HI US', 80.0, '2017-06-19'),\n",
       " ('USC00519397', 'USC00519397', 'WAIKIKI 717.2, HI US', 78.0, '2017-06-20'),\n",
       " ('USC00519397', 'USC00519397', 'WAIKIKI 717.2, HI US', 79.0, '2017-06-21'),\n",
       " ('USC00519397', 'USC00519397', 'WAIKIKI 717.2, HI US', 80.0, '2017-06-22'),\n",
       " ('USC00519397', 'USC00519397', 'WAIKIKI 717.2, HI US', 78.0, '2017-06-23'),\n",
       " ('USC00519397', 'USC00519397', 'WAIKIKI 717.2, HI US', 80.0, '2017-06-24'),\n",
       " ('USC00519397', 'USC00519397', 'WAIKIKI 717.2, HI US', 80.0, '2017-06-25'),\n",
       " ('USC00519397', 'USC00519397', 'WAIKIKI 717.2, HI US', 81.0, '2017-06-26'),\n",
       " ('USC00519397', 'USC00519397', 'WAIKIKI 717.2, HI US', 80.0, '2017-06-27'),\n",
       " ('USC00519397', 'USC00519397', 'WAIKIKI 717.2, HI US', 79.0, '2017-06-28'),\n",
       " ('USC00519397', 'USC00519397', 'WAIKIKI 717.2, HI US', 79.0, '2017-06-29'),\n",
       " ('USC00519397', 'USC00519397', 'WAIKIKI 717.2, HI US', 75.0, '2017-06-30'),\n",
       " ('USC00519397', 'USC00519397', 'WAIKIKI 717.2, HI US', 80.0, '2017-07-01'),\n",
       " ('USC00519397', 'USC00519397', 'WAIKIKI 717.2, HI US', 80.0, '2017-07-02'),\n",
       " ('USC00519397', 'USC00519397', 'WAIKIKI 717.2, HI US', 78.0, '2017-07-03'),\n",
       " ('USC00519397', 'USC00519397', 'WAIKIKI 717.2, HI US', 80.0, '2017-07-04'),\n",
       " ('USC00519397', 'USC00519397', 'WAIKIKI 717.2, HI US', 80.0, '2017-07-05'),\n",
       " ('USC00519397', 'USC00519397', 'WAIKIKI 717.2, HI US', 81.0, '2017-07-06'),\n",
       " ('USC00519397', 'USC00519397', 'WAIKIKI 717.2, HI US', 79.0, '2017-07-07'),\n",
       " ('USC00519397', 'USC00519397', 'WAIKIKI 717.2, HI US', 80.0, '2017-07-08'),\n",
       " ('USC00519397', 'USC00519397', 'WAIKIKI 717.2, HI US', 80.0, '2017-07-09'),\n",
       " ('USC00519397', 'USC00519397', 'WAIKIKI 717.2, HI US', 80.0, '2017-07-10'),\n",
       " ('USC00519397', 'USC00519397', 'WAIKIKI 717.2, HI US', 78.0, '2017-07-11'),\n",
       " ('USC00519397', 'USC00519397', 'WAIKIKI 717.2, HI US', 81.0, '2017-07-12'),\n",
       " ('USC00519397', 'USC00519397', 'WAIKIKI 717.2, HI US', 79.0, '2017-07-13'),\n",
       " ('USC00519397', 'USC00519397', 'WAIKIKI 717.2, HI US', 81.0, '2017-07-14'),\n",
       " ('USC00519397', 'USC00519397', 'WAIKIKI 717.2, HI US', 80.0, '2017-07-15'),\n",
       " ('USC00519397', 'USC00519397', 'WAIKIKI 717.2, HI US', 78.0, '2017-07-16'),\n",
       " ('USC00519397', 'USC00519397', 'WAIKIKI 717.2, HI US', 80.0, '2017-07-17'),\n",
       " ('USC00519397', 'USC00519397', 'WAIKIKI 717.2, HI US', 80.0, '2017-07-18'),\n",
       " ('USC00519397', 'USC00519397', 'WAIKIKI 717.2, HI US', 80.0, '2017-07-20'),\n",
       " ('USC00519397', 'USC00519397', 'WAIKIKI 717.2, HI US', 80.0, '2017-07-21'),\n",
       " ('USC00519397', 'USC00519397', 'WAIKIKI 717.2, HI US', 81.0, '2017-07-22'),\n",
       " ('USC00519397', 'USC00519397', 'WAIKIKI 717.2, HI US', 81.0, '2017-07-23'),\n",
       " ('USC00519397', 'USC00519397', 'WAIKIKI 717.2, HI US', 78.0, '2017-07-24'),\n",
       " ('USC00519397', 'USC00519397', 'WAIKIKI 717.2, HI US', 80.0, '2017-07-25'),\n",
       " ('USC00519397', 'USC00519397', 'WAIKIKI 717.2, HI US', 82.0, '2017-07-26'),\n",
       " ('USC00519397', 'USC00519397', 'WAIKIKI 717.2, HI US', 79.0, '2017-07-27'),\n",
       " ('USC00519397', 'USC00519397', 'WAIKIKI 717.2, HI US', 81.0, '2017-07-28'),\n",
       " ('USC00519397', 'USC00519397', 'WAIKIKI 717.2, HI US', 81.0, '2017-07-29'),\n",
       " ('USC00519397', 'USC00519397', 'WAIKIKI 717.2, HI US', 81.0, '2017-07-30'),\n",
       " ('USC00519397', 'USC00519397', 'WAIKIKI 717.2, HI US', 80.0, '2017-07-31'),\n",
       " ('USC00519397', 'USC00519397', 'WAIKIKI 717.2, HI US', 77.0, '2017-08-01'),\n",
       " ('USC00519397', 'USC00519397', 'WAIKIKI 717.2, HI US', 73.0, '2017-08-02'),\n",
       " ('USC00519397', 'USC00519397', 'WAIKIKI 717.2, HI US', 79.0, '2017-08-03'),\n",
       " ('USC00519397', 'USC00519397', 'WAIKIKI 717.2, HI US', 80.0, '2017-08-04'),\n",
       " ('USC00519397', 'USC00519397', 'WAIKIKI 717.2, HI US', 81.0, '2017-08-05'),\n",
       " ('USC00519397', 'USC00519397', 'WAIKIKI 717.2, HI US', 80.0, '2017-08-06'),\n",
       " ('USC00519397', 'USC00519397', 'WAIKIKI 717.2, HI US', 80.0, '2017-08-07'),\n",
       " ('USC00519397', 'USC00519397', 'WAIKIKI 717.2, HI US', 80.0, '2017-08-08'),\n",
       " ('USC00519397', 'USC00519397', 'WAIKIKI 717.2, HI US', 80.0, '2017-08-09'),\n",
       " ('USC00519397', 'USC00519397', 'WAIKIKI 717.2, HI US', 81.0, '2017-08-10'),\n",
       " ('USC00519397', 'USC00519397', 'WAIKIKI 717.2, HI US', 78.0, '2017-08-11'),\n",
       " ('USC00519397', 'USC00519397', 'WAIKIKI 717.2, HI US', 80.0, '2017-08-12'),\n",
       " ('USC00519397', 'USC00519397', 'WAIKIKI 717.2, HI US', 81.0, '2017-08-13'),\n",
       " ('USC00519397', 'USC00519397', 'WAIKIKI 717.2, HI US', 79.0, '2017-08-14'),\n",
       " ('USC00519397', 'USC00519397', 'WAIKIKI 717.2, HI US', 78.0, '2017-08-15'),\n",
       " ('USC00519397', 'USC00519397', 'WAIKIKI 717.2, HI US', 80.0, '2017-08-18'),\n",
       " ('USC00519397', 'USC00519397', 'WAIKIKI 717.2, HI US', 79.0, '2017-08-19'),\n",
       " ('USC00519397', 'USC00519397', 'WAIKIKI 717.2, HI US', 81.0, '2017-08-20'),\n",
       " ('USC00519397', 'USC00519397', 'WAIKIKI 717.2, HI US', 81.0, '2017-08-21'),\n",
       " ('USC00519397', 'USC00519397', 'WAIKIKI 717.2, HI US', 82.0, '2017-08-22'),\n",
       " ('USC00519397', 'USC00519397', 'WAIKIKI 717.2, HI US', 81.0, '2017-08-23')]"
      ]
     },
     "execution_count": 60,
     "metadata": {},
     "output_type": "execute_result"
    }
   ],
   "source": [
    "# verifing the above process worked.\n",
    "most_frequent_data"
   ]
  },
  {
   "cell_type": "code",
   "execution_count": 45,
   "metadata": {},
   "outputs": [],
   "source": [
    "# creating a pandas dataframe from above list in order to create a histogram.\n",
    "pandas_most_frequent_data = pd.DataFrame(most_frequent_data, columns=[\"Station\", \"Stations\",\"Name of Station\", \"Temperature Observation\", \"Date\"])"
   ]
  },
  {
   "cell_type": "code",
   "execution_count": 46,
   "metadata": {},
   "outputs": [],
   "source": [
    "# removing the station columnns and date column.\n",
    "pandas_most_frequent_data = pandas_most_frequent_data[[\"Name of Station\", \"Temperature Observation\"]]"
   ]
  },
  {
   "cell_type": "code",
   "execution_count": 47,
   "metadata": {},
   "outputs": [
    {
     "data": {
      "text/html": [
       "<div>\n",
       "<style scoped>\n",
       "    .dataframe tbody tr th:only-of-type {\n",
       "        vertical-align: middle;\n",
       "    }\n",
       "\n",
       "    .dataframe tbody tr th {\n",
       "        vertical-align: top;\n",
       "    }\n",
       "\n",
       "    .dataframe thead th {\n",
       "        text-align: right;\n",
       "    }\n",
       "</style>\n",
       "<table border=\"1\" class=\"dataframe\">\n",
       "  <thead>\n",
       "    <tr style=\"text-align: right;\">\n",
       "      <th></th>\n",
       "      <th>Name of Station</th>\n",
       "      <th>Temperature Observation</th>\n",
       "    </tr>\n",
       "  </thead>\n",
       "  <tbody>\n",
       "    <tr>\n",
       "      <th>0</th>\n",
       "      <td>WAIKIKI 717.2, HI US</td>\n",
       "      <td>62.0</td>\n",
       "    </tr>\n",
       "    <tr>\n",
       "      <th>1</th>\n",
       "      <td>WAIKIKI 717.2, HI US</td>\n",
       "      <td>66.0</td>\n",
       "    </tr>\n",
       "    <tr>\n",
       "      <th>2</th>\n",
       "      <td>WAIKIKI 717.2, HI US</td>\n",
       "      <td>63.0</td>\n",
       "    </tr>\n",
       "    <tr>\n",
       "      <th>3</th>\n",
       "      <td>WAIKIKI 717.2, HI US</td>\n",
       "      <td>62.0</td>\n",
       "    </tr>\n",
       "    <tr>\n",
       "      <th>4</th>\n",
       "      <td>WAIKIKI 717.2, HI US</td>\n",
       "      <td>63.0</td>\n",
       "    </tr>\n",
       "  </tbody>\n",
       "</table>\n",
       "</div>"
      ],
      "text/plain": [
       "        Name of Station  Temperature Observation\n",
       "0  WAIKIKI 717.2, HI US                     62.0\n",
       "1  WAIKIKI 717.2, HI US                     66.0\n",
       "2  WAIKIKI 717.2, HI US                     63.0\n",
       "3  WAIKIKI 717.2, HI US                     62.0\n",
       "4  WAIKIKI 717.2, HI US                     63.0"
      ]
     },
     "execution_count": 47,
     "metadata": {},
     "output_type": "execute_result"
    }
   ],
   "source": [
    "# previewing the pandas_most_frequent_data dataframe.\n",
    "pandas_most_frequent_data.head()"
   ]
  },
  {
   "cell_type": "code",
   "execution_count": 48,
   "metadata": {},
   "outputs": [
    {
     "data": {
      "text/plain": [
       "Text(0.5, 0, 'Temperature')"
      ]
     },
     "execution_count": 48,
     "metadata": {},
     "output_type": "execute_result"
    },
    {
     "data": {
      "image/png": "[encoded data removed]",
      "text/plain": [
       "<Figure size 432x288 with 1 Axes>"
      ]
     },
     "metadata": {
      "needs_background": "light"
     },
     "output_type": "display_data"
    }
   ],
   "source": [
    "# creating a histogram that shows the most frequent temperature observations in 2017 at Waikiki, which had the most temperature observations out of all the weather stations..\n",
    "pandas_most_frequent_data.hist(bins=12)\n",
    "# labeling the histogram.\n",
    "plt.title(\"Frequency of Temperatures in 2017 recorded at Waikiki\")\n",
    "plt.ylabel(\"Frequency\")\n",
    "plt.xlabel(\"Temperature\")"
   ]
  },
  {
   "cell_type": "code",
   "execution_count": null,
   "metadata": {},
   "outputs": [],
   "source": []
  },
  {
   "cell_type": "code",
   "execution_count": null,
   "metadata": {},
   "outputs": [],
   "source": []
  }
 ],
 "metadata": {
  "kernelspec": {
   "display_name": "Python 3",
   "language": "python",
   "name": "python3"
  },
  "language_info": {
   "codemirror_mode": {
    "name": "ipython",
    "version": 3
   },
   "file_extension": ".py",
   "mimetype": "text/x-python",
   "name": "python",
   "nbconvert_exporter": "python",
   "pygments_lexer": "ipython3",
   "version": "3.7.3"
  }
 },
 "nbformat": 4,
 "nbformat_minor": 2
}
